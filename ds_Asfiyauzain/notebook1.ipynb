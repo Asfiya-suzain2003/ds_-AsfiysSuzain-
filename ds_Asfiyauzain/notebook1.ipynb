{
  "nbformat": 4,
  "nbformat_minor": 0,
  "metadata": {
    "colab": {
      "provenance": []
    },
    "kernelspec": {
      "name": "python3",
      "display_name": "Python 3"
    },
    "language_info": {
      "name": "python"
    }
  },
  "cells": [
    {
      "cell_type": "code",
      "source": [
        "your_name = \"AsfiyaSuzain\"\n",
        "\n",
        "!mkdir -p ds_{your_name}/csv_files\n",
        "!mkdir -p ds_{your_name}/outputs\n",
        "!touch ds_{your_name}/README.md\n"
      ],
      "metadata": {
        "id": "oWJ09Vie9q49"
      },
      "execution_count": 35,
      "outputs": []
    },
    {
      "cell_type": "code",
      "source": [
        "import gdown\n",
        "\n",
        "\n",
        "historical_url = \"https://drive.google.com/uc?id=1IAfLZwu6rJzyWKgBToqwSmmVYU6VbjVs\"\n",
        "\n",
        "\n",
        "fear_greed_url = \"https://drive.google.com/uc?id=1PgQC0tO8XN-wqkNyghWc_-mnrYv_nhSf\"\n",
        "\n",
        "gdown.download(historical_url, f\"ds_{your_name}/csv_files/historical_trader_data.csv\", quiet=False)\n",
        "gdown.download(fear_greed_url, f\"ds_{your_name}/csv_files/fear_greed_index.csv\", quiet=False)\n"
      ],
      "metadata": {
        "colab": {
          "base_uri": "https://localhost:8080/",
          "height": 174
        },
        "id": "T5AE5FKJ9tqh",
        "outputId": "d30ab4af-0ad5-4dd4-a0e5-8ff7ec427c24"
      },
      "execution_count": 36,
      "outputs": [
        {
          "output_type": "stream",
          "name": "stderr",
          "text": [
            "Downloading...\n",
            "From: https://drive.google.com/uc?id=1IAfLZwu6rJzyWKgBToqwSmmVYU6VbjVs\n",
            "To: /content/ds_AsfiyaSuzain/csv_files/historical_trader_data.csv\n",
            "100%|██████████| 47.5M/47.5M [00:00<00:00, 80.2MB/s]\n",
            "Downloading...\n",
            "From: https://drive.google.com/uc?id=1PgQC0tO8XN-wqkNyghWc_-mnrYv_nhSf\n",
            "To: /content/ds_AsfiyaSuzain/csv_files/fear_greed_index.csv\n",
            "100%|██████████| 90.8k/90.8k [00:00<00:00, 20.4MB/s]\n"
          ]
        },
        {
          "output_type": "execute_result",
          "data": {
            "text/plain": [
              "'ds_AsfiyaSuzain/csv_files/fear_greed_index.csv'"
            ],
            "application/vnd.google.colaboratory.intrinsic+json": {
              "type": "string"
            }
          },
          "metadata": {},
          "execution_count": 36
        }
      ]
    },
    {
      "cell_type": "code",
      "source": [
        "import pandas as pd\n",
        "\n",
        "# Load datasets\n",
        "trader_df = pd.read_csv(f\"ds_{your_name}/csv_files/historical_trader_data.csv\")\n",
        "sentiment_df = pd.read_csv(f\"ds_{your_name}/csv_files/fear_greed_index.csv\")\n",
        "\n",
        "# Print columns for both datasets to check\n",
        "print(\"Trader Data Columns:\")\n",
        "print(trader_df.columns)\n",
        "\n",
        "print(\"\\nSentiment Data Columns:\")\n",
        "print(sentiment_df.columns)\n"
      ],
      "metadata": {
        "colab": {
          "base_uri": "https://localhost:8080/"
        },
        "id": "ux7lK85p94Ky",
        "outputId": "a2a3a967-0d28-4f8f-c4db-e6b07ab0670e"
      },
      "execution_count": 37,
      "outputs": [
        {
          "output_type": "stream",
          "name": "stdout",
          "text": [
            "Trader Data Columns:\n",
            "Index(['Account', 'Coin', 'Execution Price', 'Size Tokens', 'Size USD', 'Side',\n",
            "       'Timestamp IST', 'Start Position', 'Direction', 'Closed PnL',\n",
            "       'Transaction Hash', 'Order ID', 'Crossed', 'Fee', 'Trade ID',\n",
            "       'Timestamp'],\n",
            "      dtype='object')\n",
            "\n",
            "Sentiment Data Columns:\n",
            "Index(['timestamp', 'value', 'classification', 'date'], dtype='object')\n"
          ]
        }
      ]
    },
    {
      "cell_type": "code",
      "source": [
        "# Rename columns in trader_df to easy lowercase names\n",
        "trader_df.rename(columns={\n",
        "    'Account': 'account',\n",
        "    'Coin': 'symbol',\n",
        "    'Execution Price': 'execution_price',\n",
        "    'Size Tokens': 'size_tokens',\n",
        "    'Size USD': 'size_usd',\n",
        "    'Side': 'side',\n",
        "    'Timestamp IST': 'timestamp_ist',\n",
        "    'Start Position': 'start_position',\n",
        "    'Direction': 'direction',\n",
        "    'Closed PnL': 'closed_pnl',\n",
        "    'Transaction Hash': 'transaction_hash',\n",
        "    'Order ID': 'order_id',\n",
        "    'Crossed': 'crossed',\n",
        "    'Fee': 'fee',\n",
        "    'Trade ID': 'trade_id',\n",
        "    'Timestamp': 'timestamp'\n",
        "}, inplace=True)\n",
        "\n",
        "# Convert 'timestamp_ist' or 'timestamp' to datetime, whichever exists\n",
        "if 'timestamp_ist' in trader_df.columns:\n",
        "    trader_df['timestamp'] = pd.to_datetime(trader_df['timestamp_ist'], errors='coerce')\n",
        "else:\n",
        "    trader_df['timestamp'] = pd.to_datetime(trader_df['timestamp'], errors='coerce')\n",
        "\n",
        "# Check if datetime conversion worked\n",
        "print(trader_df[['timestamp_ist', 'timestamp']].head())\n"
      ],
      "metadata": {
        "colab": {
          "base_uri": "https://localhost:8080/"
        },
        "id": "bMXuydWM98sp",
        "outputId": "b4414b15-b9ad-467b-a36e-08c3a2a72e4d"
      },
      "execution_count": 38,
      "outputs": [
        {
          "output_type": "stream",
          "name": "stdout",
          "text": [
            "      timestamp_ist           timestamp\n",
            "0  02-12-2024 22:50 2024-02-12 22:50:00\n",
            "1  02-12-2024 22:50 2024-02-12 22:50:00\n",
            "2  02-12-2024 22:50 2024-02-12 22:50:00\n",
            "3  02-12-2024 22:50 2024-02-12 22:50:00\n",
            "4  02-12-2024 22:50 2024-02-12 22:50:00\n"
          ]
        }
      ]
    },
    {
      "cell_type": "code",
      "source": [
        "# Step 4 fixed: Prepare Date_only columns and check date ranges safely\n",
        "\n",
        "# Create date-only columns for merging (date without time)\n",
        "trader_df['Date_only'] = pd.to_datetime(trader_df['timestamp'], errors='coerce').dt.date\n",
        "\n",
        "# For sentiment data, clean columns & rename if necessary\n",
        "sentiment_df.columns = sentiment_df.columns.str.strip()  # remove spaces\n",
        "if 'Date' not in sentiment_df.columns and 'date' in sentiment_df.columns:\n",
        "    sentiment_df.rename(columns={'date': 'Date'}, inplace=True)\n",
        "sentiment_df['Date'] = pd.to_datetime(sentiment_df['Date'], errors='coerce')\n",
        "sentiment_df['Date_only'] = sentiment_df['Date'].dt.date\n",
        "\n",
        "# Drop missing values before min/max\n",
        "valid_trader_dates = trader_df['Date_only'].dropna()\n",
        "valid_sentiment_dates = sentiment_df['Date_only'].dropna()\n",
        "\n",
        "print(\"Trader data date range:\", valid_trader_dates.min(), \"to\", valid_trader_dates.max())\n",
        "print(\"Sentiment data date range:\", valid_sentiment_dates.min(), \"to\", valid_sentiment_dates.max())\n"
      ],
      "metadata": {
        "colab": {
          "base_uri": "https://localhost:8080/"
        },
        "id": "baj-I77x-Bnq",
        "outputId": "54938b6c-8865-41cf-d6cc-2eb1d5a7c328"
      },
      "execution_count": 40,
      "outputs": [
        {
          "output_type": "stream",
          "name": "stdout",
          "text": [
            "Trader data date range: 2023-01-05 to 2025-12-04\n",
            "Sentiment data date range: 2018-02-01 to 2025-05-02\n"
          ]
        }
      ]
    },
    {
      "cell_type": "code",
      "source": [
        "start_date = sentiment_df['Date_only'].min()\n",
        "end_date = sentiment_df['Date_only'].max()\n",
        "\n",
        "filtered_trader_df = trader_df[(trader_df['Date_only'] >= start_date) & (trader_df['Date_only'] <= end_date)]\n",
        "\n",
        "print(\"Filtered trader data date range:\", filtered_trader_df['Date_only'].min(), \"to\", filtered_trader_df['Date_only'].max())\n",
        "print(\"Rows after filtering:\", len(filtered_trader_df))\n"
      ],
      "metadata": {
        "colab": {
          "base_uri": "https://localhost:8080/"
        },
        "id": "I2G8x26x-DnH",
        "outputId": "24fc6832-757d-4373-ed6b-2120adf4c995"
      },
      "execution_count": 41,
      "outputs": [
        {
          "output_type": "stream",
          "name": "stdout",
          "text": [
            "Filtered trader data date range: 2023-01-05 to 2025-05-02\n",
            "Rows after filtering: 35864\n"
          ]
        }
      ]
    },
    {
      "cell_type": "code",
      "source": [
        "# Step 6: Fix column names in sentiment_df before merge\n",
        "\n",
        "# Strip whitespace from all column names\n",
        "sentiment_df.columns = sentiment_df.columns.str.strip()\n",
        "\n",
        "# Check if 'Classification' column exists (case-insensitive)\n",
        "if 'Classification' not in sentiment_df.columns:\n",
        "    for col in sentiment_df.columns:\n",
        "        if col.lower() == 'classification':\n",
        "            sentiment_df.rename(columns={col: 'Classification'}, inplace=True)\n",
        "            break\n",
        "\n",
        "# Now merge filtered trader data with sentiment data on 'Date_only'\n",
        "merged_df = pd.merge(\n",
        "    filtered_trader_df,\n",
        "    sentiment_df[['Date_only', 'Classification']],\n",
        "    on='Date_only',\n",
        "    how='left'\n",
        ")\n",
        "\n",
        "# Show sample rows and counts of valid rows\n",
        "print(\"Merged data sample:\")\n",
        "print(merged_df[['Date_only', 'side', 'closed_pnl', 'Classification']].head())\n",
        "\n",
        "valid_rows = merged_df[merged_df['side'].notna() & merged_df['Classification'].notna()]\n",
        "print(\"Rows with valid 'side' and 'Classification':\", len(valid_rows))\n"
      ],
      "metadata": {
        "colab": {
          "base_uri": "https://localhost:8080/"
        },
        "id": "H3lAbpDG-THS",
        "outputId": "bc4d761b-5691-4f7f-eb1d-c75d77c44216"
      },
      "execution_count": 43,
      "outputs": [
        {
          "output_type": "stream",
          "name": "stdout",
          "text": [
            "Merged data sample:\n",
            "    Date_only side  closed_pnl Classification\n",
            "0  2024-02-12  BUY         0.0          Greed\n",
            "1  2024-02-12  BUY         0.0          Greed\n",
            "2  2024-02-12  BUY         0.0          Greed\n",
            "3  2024-02-12  BUY         0.0          Greed\n",
            "4  2024-02-12  BUY         0.0          Greed\n",
            "Rows with valid 'side' and 'Classification': 35864\n"
          ]
        }
      ]
    },
    {
      "cell_type": "code",
      "source": [
        "import matplotlib.pyplot as plt\n",
        "import seaborn as sns\n",
        "sns.set_style(\"whitegrid\")\n",
        "\n",
        "avg_pnl = valid_rows.groupby('Classification')['closed_pnl'].mean()\n",
        "print(\"Average Closed PnL by Market Sentiment:\")\n",
        "print(avg_pnl)\n",
        "\n",
        "plt.figure(figsize=(6,4))\n",
        "sns.barplot(x=avg_pnl.index, y=avg_pnl.values, palette=[\"red\", \"green\"])\n",
        "plt.title(\"Average Closed PnL by Market Sentiment\")\n",
        "plt.ylabel(\"Average Profit/Loss\")\n",
        "plt.xlabel(\"Market Sentiment\")\n",
        "plt.savefig(f\"ds_{your_name}/outputs/avg_pnl_by_sentiment.png\")\n",
        "plt.show()\n"
      ],
      "metadata": {
        "colab": {
          "base_uri": "https://localhost:8080/",
          "height": 708
        },
        "id": "5G_Su4iR-VIe",
        "outputId": "069da0dd-57aa-4c83-dc95-ebf2bed91d0b"
      },
      "execution_count": 44,
      "outputs": [
        {
          "output_type": "stream",
          "name": "stdout",
          "text": [
            "Average Closed PnL by Market Sentiment:\n",
            "Classification\n",
            "Extreme Fear       1.891632\n",
            "Extreme Greed    205.816345\n",
            "Fear             128.287950\n",
            "Greed             53.988003\n",
            "Neutral           27.088803\n",
            "Name: closed_pnl, dtype: float64\n"
          ]
        },
        {
          "output_type": "stream",
          "name": "stderr",
          "text": [
            "/tmp/ipython-input-2183096698.py:10: FutureWarning: \n",
            "\n",
            "Passing `palette` without assigning `hue` is deprecated and will be removed in v0.14.0. Assign the `x` variable to `hue` and set `legend=False` for the same effect.\n",
            "\n",
            "  sns.barplot(x=avg_pnl.index, y=avg_pnl.values, palette=[\"red\", \"green\"])\n",
            "/tmp/ipython-input-2183096698.py:10: UserWarning: \n",
            "The palette list has fewer values (2) than needed (5) and will cycle, which may produce an uninterpretable plot.\n",
            "  sns.barplot(x=avg_pnl.index, y=avg_pnl.values, palette=[\"red\", \"green\"])\n"
          ]
        },
        {
          "output_type": "display_data",
          "data": {
            "text/plain": [
              "<Figure size 600x400 with 1 Axes>"
            ],
            "image/png": "[encoded data removed]"
          },
          "metadata": {}
        }
      ]
    },
    {
      "cell_type": "code",
      "source": [
        "volume_by_sentiment = valid_rows.groupby('Classification')['size_usd'].sum()\n",
        "print(\"Total Trading Volume (USD) by Market Sentiment:\")\n",
        "print(volume_by_sentiment)\n",
        "\n",
        "plt.figure(figsize=(6,4))\n",
        "sns.barplot(x=volume_by_sentiment.index, y=volume_by_sentiment.values, palette=[\"orange\", \"blue\"])\n",
        "plt.title(\"Total Trading Volume (USD) by Market Sentiment\")\n",
        "plt.ylabel(\"Total Volume (USD)\")\n",
        "plt.xlabel(\"Market Sentiment\")\n",
        "plt.savefig(f\"ds_{your_name}/outputs/volume_usd_by_sentiment.png\")\n",
        "plt.show()\n"
      ],
      "metadata": {
        "colab": {
          "base_uri": "https://localhost:8080/",
          "height": 708
        },
        "id": "kjqa-b2i-oWN",
        "outputId": "a0774e3e-d8fe-4581-91b7-d3d8dc6cc30a"
      },
      "execution_count": 45,
      "outputs": [
        {
          "output_type": "stream",
          "name": "stdout",
          "text": [
            "Total Trading Volume (USD) by Market Sentiment:\n",
            "Classification\n",
            "Extreme Fear      9580240.04\n",
            "Extreme Greed    18223760.27\n",
            "Fear             79674391.06\n",
            "Greed            57045815.74\n",
            "Neutral          11939551.21\n",
            "Name: size_usd, dtype: float64\n"
          ]
        },
        {
          "output_type": "stream",
          "name": "stderr",
          "text": [
            "/tmp/ipython-input-3356100441.py:6: FutureWarning: \n",
            "\n",
            "Passing `palette` without assigning `hue` is deprecated and will be removed in v0.14.0. Assign the `x` variable to `hue` and set `legend=False` for the same effect.\n",
            "\n",
            "  sns.barplot(x=volume_by_sentiment.index, y=volume_by_sentiment.values, palette=[\"orange\", \"blue\"])\n",
            "/tmp/ipython-input-3356100441.py:6: UserWarning: \n",
            "The palette list has fewer values (2) than needed (5) and will cycle, which may produce an uninterpretable plot.\n",
            "  sns.barplot(x=volume_by_sentiment.index, y=volume_by_sentiment.values, palette=[\"orange\", \"blue\"])\n"
          ]
        },
        {
          "output_type": "display_data",
          "data": {
            "text/plain": [
              "<Figure size 600x400 with 1 Axes>"
            ],
            "image/png": "[encoded data removed]"
          },
          "metadata": {}
        }
      ]
    },
    {
      "cell_type": "code",
      "source": [
        "buy_sell_count = valid_rows.groupby(['Classification', 'side']).size().unstack(fill_value=0)\n",
        "\n",
        "print(\"Buy/Sell Trade Counts by Market Sentiment:\")\n",
        "print(buy_sell_count)\n",
        "\n",
        "buy_sell_count.plot(kind='bar', stacked=True, figsize=(7,5), colormap='Set2')\n",
        "plt.title(\"Buy/Sell Trade Counts by Market Sentiment\")\n",
        "plt.ylabel(\"Number of Trades\")\n",
        "plt.xlabel(\"Market Sentiment\")\n",
        "plt.xticks(rotation=0)\n",
        "plt.legend(title='Side')\n",
        "plt.tight_layout()\n",
        "plt.savefig(f\"ds_{your_name}/outputs/buy_sell_by_sentiment.png\")\n",
        "plt.show()\n"
      ],
      "metadata": {
        "colab": {
          "base_uri": "https://localhost:8080/",
          "height": 614
        },
        "id": "LI5T7ZCg-rit",
        "outputId": "c7713880-9117-43e5-8e8e-1f78d2486321"
      },
      "execution_count": 46,
      "outputs": [
        {
          "output_type": "stream",
          "name": "stdout",
          "text": [
            "Buy/Sell Trade Counts by Market Sentiment:\n",
            "side             BUY  SELL\n",
            "Classification            \n",
            "Extreme Fear    1168  1158\n",
            "Extreme Greed   1661  3960\n",
            "Fear            7307  6562\n",
            "Greed           5407  5885\n",
            "Neutral         1020  1736\n"
          ]
        },
        {
          "output_type": "display_data",
          "data": {
            "text/plain": [
              "<Figure size 700x500 with 1 Axes>"
            ],
            "image/png": "[encoded data removed]"
          },
          "metadata": {}
        }
      ]
    },
    {
      "cell_type": "code",
      "source": [
        "summary = valid_rows.groupby('Classification').agg({\n",
        "    'closed_pnl': ['mean', 'sum'],\n",
        "    'size_usd': ['sum', 'mean'],\n",
        "    'account': 'nunique'\n",
        "}).reset_index()\n",
        "\n",
        "summary.columns = ['Classification', 'Avg_Closed_PnL', 'Sum_Closed_PnL', 'Sum_Volume_USD', 'Avg_Volume_USD', 'Unique_Accounts']\n",
        "\n",
        "summary.to_csv(f\"ds_{your_name}/csv_files/summary_by_sentiment.csv\", index=False)\n",
        "print(\"Summary saved to csv_files/summary_by_sentiment.csv\")\n"
      ],
      "metadata": {
        "colab": {
          "base_uri": "https://localhost:8080/"
        },
        "id": "PCHfMWdJ-uJi",
        "outputId": "c8a23189-df87-4fc5-97fd-c627e8005d16"
      },
      "execution_count": 47,
      "outputs": [
        {
          "output_type": "stream",
          "name": "stdout",
          "text": [
            "Summary saved to csv_files/summary_by_sentiment.csv\n"
          ]
        }
      ]
    },
    {
      "cell_type": "code",
      "source": [
        "!pip install fpdf --quiet\n",
        "from fpdf import FPDF\n",
        "\n",
        "pdf = FPDF()\n",
        "pdf.add_page()\n",
        "pdf.set_font(\"Arial\", 'B', 16)\n",
        "pdf.cell(0, 10, \"Trading Behavior & Market Sentiment Report\", ln=True, align=\"C\")\n",
        "\n",
        "pdf.set_font(\"Arial\", size=12)\n",
        "pdf.ln(10)\n",
        "pdf.multi_cell(0, 8,\n",
        "    f\"This report analyzes trading behavior aligned with Bitcoin market sentiment.\\n\\n\"\n",
        "    f\"Average Profit/Loss during Greed: {avg_pnl.get('Greed', 0):.2f}\\n\"\n",
        "    f\"Average Profit/Loss during Fear: {avg_pnl.get('Fear', 0):.2f}\\n\"\n",
        "    f\"Total Trading Volume during Greed: {volume_by_sentiment.get('Greed', 0):,.2f} USD\\n\"\n",
        "    f\"Total Trading Volume during Fear: {volume_by_sentiment.get('Fear', 0):,.2f} USD\\n\"\n",
        "    f\"Unique trader accounts analyzed: {summary['Unique_Accounts'].sum()}\\n\\n\"\n",
        "    f\"Visual outputs are saved in the outputs/ folder.\"\n",
        ")\n",
        "\n",
        "pdf.output(f\"ds_{your_name}/ds_report.pdf\")\n",
        "print(\"PDF report saved as ds_report.pdf\")\n"
      ],
      "metadata": {
        "colab": {
          "base_uri": "https://localhost:8080/"
        },
        "id": "KvRycKJO-wvy",
        "outputId": "26e0c7a0-2e4e-4361-e5f8-357dd8e04d3e"
      },
      "execution_count": 48,
      "outputs": [
        {
          "output_type": "stream",
          "name": "stdout",
          "text": [
            "  Preparing metadata (setup.py) ... \u001b[?25l\u001b[?25hdone\n",
            "  Building wheel for fpdf (setup.py) ... \u001b[?25l\u001b[?25hdone\n",
            "PDF report saved as ds_report.pdf\n"
          ]
        }
      ]
    },
    {
      "cell_type": "code",
      "source": [
        "!zip -r ds_{your_name}.zip ds_{your_name}\n",
        "print(f\"Folder zipped as ds_{your_name}.zip\")\n"
      ],
      "metadata": {
        "colab": {
          "base_uri": "https://localhost:8080/"
        },
        "id": "Oe4DJURx-2qB",
        "outputId": "7dbc90ec-c325-4d94-a136-db361127a3d3"
      },
      "execution_count": 49,
      "outputs": [
        {
          "output_type": "stream",
          "name": "stdout",
          "text": [
            "  adding: ds_AsfiyaSuzain/ (stored 0%)\n",
            "  adding: ds_AsfiyaSuzain/outputs/ (stored 0%)\n",
            "  adding: ds_AsfiyaSuzain/outputs/avg_pnl_by_sentiment.png (deflated 15%)\n",
            "  adding: ds_AsfiyaSuzain/outputs/volume_usd_by_sentiment.png (deflated 14%)\n",
            "  adding: ds_AsfiyaSuzain/outputs/buy_sell_by_sentiment.png (deflated 18%)\n",
            "  adding: ds_AsfiyaSuzain/ds_report.pdf (deflated 31%)\n",
            "  adding: ds_AsfiyaSuzain/csv_files/ (stored 0%)\n",
            "  adding: ds_AsfiyaSuzain/csv_files/fear_greed_index.csv (deflated 77%)\n",
            "  adding: ds_AsfiyaSuzain/csv_files/summary_by_sentiment.csv (deflated 35%)\n",
            "  adding: ds_AsfiyaSuzain/csv_files/historical_trader_data.csv (deflated 80%)\n",
            "  adding: ds_AsfiyaSuzain/README.md (stored 0%)\n",
            "Folder zipped as ds_AsfiyaSuzain.zip\n"
          ]
        }
      ]
    },
    {
      "cell_type": "code",
      "source": [],
      "metadata": {
        "id": "ZzHozTKn-8ie"
      },
      "execution_count": null,
      "outputs": []
    }
  ]
}